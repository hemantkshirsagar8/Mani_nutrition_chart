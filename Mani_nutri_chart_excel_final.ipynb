{
 "cells": [
  {
   "cell_type": "code",
   "execution_count": 31,
   "metadata": {
    "ExecuteTime": {
     "end_time": "2018-06-02T17:20:59.989994Z",
     "start_time": "2018-06-02T17:20:17.872651Z"
    }
   },
   "outputs": [],
   "source": [
    "import pandas as pd\n",
    "import xlsxwriter\n",
    "\n",
    "nutri_chart = pd.read_excel(\"/home/hemant/Documents/Mani_nutri/nutri_chart.xlsx\")\n",
    "nutri_templ = pd.read_excel(\"/home/hemant/Documents/Mani_nutri/nutri_template.xlsx\")\n",
    "from_site = pd.read_csv(\"/home/hemant/Documents/Mani_nutri/from_site.csv\")\n",
    "nutri_chart = nutri_chart.fillna(\"-\")\n",
    "\n",
    "days = {1: \"पहिला\", 2: \"दुसरा\", 3: \"तिसरा\" }\n",
    "menu = {1:\"चहा\",2:\"ब्रेड\",3:\"बिस्कीट\",4:\"दूध\",5:\"उपमा\",6:\"पोहे\",7:\"शिरा\",8:\"दहीवडे\",9:\"उसाचा रस\",10:\"वाटाणा उसळ\",11:\"मटकीची उसळ\",12:\"चण्याची उसळ\",\n",
    "        13:\"साबुदाणा उसळ\",14:\"कढी\",15:\"पापड\",16:\"भाकर\",17:\"पोळी\",18:\"भात\",19:\"वरण\",20:\"खिचडी\",21:\"बेसन\",22:\"पत्ता कोबी\",23:\"मेथीची भाजी\",24:\"डाळ पालक\",\n",
    "        25:\"बटाटा वडी\",26:\"पालक वरण\",27:\"आलूची भाजी\",28:\"टमाटर चटणी\",29:\"वांग्याचं भरीत\",30:\"वांग्याची भाजी\",31:\"अंड्याची भाजी\"}\n",
    "\n",
    "# Create a workbook and add a worksheet.\n",
    "file_name = '/home/hemant/Documents/Mani_nutri/Manisha_Kshirsagar_nutrition_chart.xlsx'\n",
    "writer = pd.ExcelWriter(file_name,engine='xlsxwriter')   \n",
    "row = 0\n",
    "\n",
    "for site in from_site.itertuples():\n",
    "    test_1 = list(str(site.Menu_1).strip().split(\",\"))\n",
    "    test_2 = list(str(site.Menu_2).strip().split(\",\"))\n",
    "    \n",
    "    input_menu = []\n",
    "    for t in test_1:\n",
    "        for key, val in menu.items():\n",
    "            if t == val:\n",
    "                input_menu.append(key)\n",
    "    for t in test_2:\n",
    "        for key, val in menu.items():\n",
    "            if t == val:\n",
    "                input_menu.append(key)\n",
    "    menu_col=[]\n",
    "    menu_df = pd.merge(nutri_templ, nutri_chart[[\"पोषक घटक\"]+[menu[x] for x in input_menu]], on=\"पोषक घटक\")\n",
    "    menu_df['Total']=round(menu_df.iloc[:,2:].sum(axis=1),2)\n",
    "    menu_col.append('Document_No')\n",
    "    menu_col.append('Day_No')\n",
    "    menu_col.append('Total')\n",
    "    for col in menu_df.columns.tolist():\n",
    "        if col != 'Total':\n",
    "            menu_col.append(col)    \n",
    "    menu_df = menu_df.assign(Document_No=int(site.Document_No))\n",
    "    menu_df = menu_df.assign(Day_No=int(site.Day_No))\n",
    "    \n",
    "    df = pd.DataFrame([])\n",
    "    df[\"Document_No\"] = menu_df[\"Document_No\"]\n",
    "    df[\"Day_No\"] = menu_df[\"Day_No\"]\n",
    "    df[\"Total\"] = menu_df[\"Total\"]\n",
    "    df[\"पोषक घटक\"] = menu_df[\"पोषक घटक\"]\n",
    "    \n",
    "    df = pd.merge(df,menu_df.iloc[:,0:-3], on=\"पोषक घटक\")\n",
    "    del df[\"अ. क्र.\"]\n",
    "    df.to_excel(writer,sheet_name='Manisha_Kshirsagar',startrow=row , startcol=0)   \n",
    "    row = row + len(df.index) + 1 + 1     \n",
    "writer.save()\n"
   ]
  }
 ],
 "metadata": {
  "kernelspec": {
   "display_name": "Python 3",
   "language": "python",
   "name": "python3"
  },
  "language_info": {
   "codemirror_mode": {
    "name": "ipython",
    "version": 3
   },
   "file_extension": ".py",
   "mimetype": "text/x-python",
   "name": "python",
   "nbconvert_exporter": "python",
   "pygments_lexer": "ipython3",
   "version": "3.6.4"
  }
 },
 "nbformat": 4,
 "nbformat_minor": 2
}
