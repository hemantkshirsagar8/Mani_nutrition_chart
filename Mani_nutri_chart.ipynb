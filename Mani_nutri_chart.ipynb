{
 "cells": [
  {
   "cell_type": "code",
   "execution_count": 2,
   "metadata": {
    "ExecuteTime": {
     "end_time": "2018-05-31T04:20:47.984130Z",
     "start_time": "2018-05-31T04:04:13.413092Z"
    }
   },
   "outputs": [],
   "source": [
    "import pandas as pd\n",
    "import docx\n",
    "from docx.shared import Pt\n",
    "\n",
    "nutri_chart = pd.read_excel(\"/home/hemant/Documents/Mani_nutri/nutri_chart.xlsx\")\n",
    "nutri_templ = pd.read_excel(\"/home/hemant/Documents/Mani_nutri/nutri_template.xlsx\")\n",
    "from_site = pd.read_csv(\"/home/hemant/Documents/Mani_nutri/from_site.csv\")\n",
    "nutri_chart = nutri_chart.fillna(\"-\")\n",
    "doc = docx.Document('/home/hemant/Documents/Mani_nutri/output_51_250.docx')\n",
    "days = {1: \"पहिला\", 2: \"दुसरा\", 3: \"तिसरा\" }\n",
    "menu = {1:\"चहा\",2:\"ब्रेड\",3:\"बिस्कीट\",4:\"दूध\",5:\"उपमा\",6:\"पोहे\",7:\"शिरा\",8:\"दहीवडे\",9:\"उसाचा रस\",10:\"वाटाणा उसळ\",11:\"मटकीची उसळ\",12:\"चण्याची उसळ\",\n",
    "        13:\"साबुदाणा उसळ\",14:\"कढी\",15:\"पापड\",16:\"भाकर\",17:\"पोळी\",18:\"भात\",19:\"वरण\",20:\"खिचडी\",21:\"बेसन\",22:\"पत्ता कोबी\",23:\"मेथीची भाजी\",24:\"डाळ पालक\",\n",
    "        25:\"बटाटा वडी\",26:\"पालक वरण\",27:\"आलूची भाजी\",28:\"टमाटर चटणी\",29:\"वांग्याचं भरीत\",30:\"वांग्याची भाजी\",31:\"अंड्याची भाजी\"}\n",
    "\n",
    "for site in from_site.itertuples():\n",
    "    test_1 = list(str(site.Menu_1).strip().split(\",\"))\n",
    "    test_2 = list(str(site.Menu_2).strip().split(\",\"))\n",
    "    Doc = int(site.Document_No)\n",
    "    day = int(site.Day_No)\n",
    "    input_menu = []\n",
    "    for t in test_1:\n",
    "        for key, val in menu.items():\n",
    "            if t == val:\n",
    "                input_menu.append(key)\n",
    "    for t in test_2:\n",
    "        for key, val in menu.items():\n",
    "            if t == val:\n",
    "                input_menu.append(key)\n",
    "    p = doc.add_paragraph(\"Doc No \"+str(Doc)+\"                              \"+\"आहार आयोजन (\"+str(days[day])+\" दिवस)\")\n",
    "\n",
    "    menu_df = pd.merge(nutri_templ, nutri_chart[[\"पोषक घटक\"]+[menu[x] for x in input_menu]], on=\"पोषक घटक\")\n",
    "    menu_df['Total']=round(menu_df.iloc[:,2:].sum(axis=1),2)\n",
    "    t = doc.add_table(menu_df.shape[0]+1, menu_df.shape[1])\n",
    "    t.font = Pt(7)\n",
    "    # add the header rows.\n",
    "    for j in range(menu_df.shape[-1]):\n",
    "        t.font.size = Pt(7)\n",
    "        t.cell(0,j).text = menu_df.columns[j]\n",
    "    # add the rest of the data frame\n",
    "    for i in range(menu_df.shape[0]):\n",
    "        for j in range(menu_df.shape[-1]):\n",
    "            t.font.size = Pt(7)\n",
    "            t.cell(i+1,j).text = str(menu_df.values[i,j])\n",
    "    if day == 3:\n",
    "        doc.add_page_break()\n",
    "    # save the doc\n",
    "    doc.save('/home/hemant/Documents/Mani_nutri/output_51_250.docx')\n",
    "    doc.save('/home/hemant/Documents/Mani_nutri/output_51_250.docx')"
   ]
  },
  {
   "cell_type": "code",
   "execution_count": null,
   "metadata": {},
   "outputs": [],
   "source": []
  }
 ],
 "metadata": {
  "kernelspec": {
   "display_name": "Python 3",
   "language": "python",
   "name": "python3"
  },
  "language_info": {
   "codemirror_mode": {
    "name": "ipython",
    "version": 3
   },
   "file_extension": ".py",
   "mimetype": "text/x-python",
   "name": "python",
   "nbconvert_exporter": "python",
   "pygments_lexer": "ipython3",
   "version": "3.6.4"
  }
 },
 "nbformat": 4,
 "nbformat_minor": 2
}
